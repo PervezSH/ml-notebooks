{
 "cells": [
  {
   "cell_type": "markdown",
   "metadata": {},
   "source": [
    "# Detecting and Removing Outliers👽\n",
    "\n",
    "As you go along you'll get to know how to discover🔎 outliers statistically and visually, and also how to remove❎ them from your dataset.\n",
    "\n",
    "The first thing we need to do is to import some relevant libraries.\n",
    "## Import Libraries 📦"
   ]
  },
  {
   "cell_type": "code",
   "execution_count": 36,
   "metadata": {},
   "outputs": [],
   "source": [
    "import pandas as pd\n",
    "import numpy as np\n",
    "import seaborn as sns\n",
    "import warnings\n",
    "warnings.filterwarnings('ignore')"
   ]
  },
  {
   "cell_type": "markdown",
   "metadata": {},
   "source": [
    "## Import Dataset 📄\n",
    "We'll be using `Ames_Housing_Sales.csv` Dataset.\n",
    "\n",
    "The Ames housing dataset examines features of houses sold in Ames during the 2006–10 timeframe. The goal is to use the training data to predict the sale prices of the houses in the testing data."
   ]
  },
  {
   "cell_type": "code",
   "execution_count": 37,
   "metadata": {},
   "outputs": [
    {
     "data": {
      "text/html": [
       "<div>\n",
       "<style scoped>\n",
       "    .dataframe tbody tr th:only-of-type {\n",
       "        vertical-align: middle;\n",
       "    }\n",
       "\n",
       "    .dataframe tbody tr th {\n",
       "        vertical-align: top;\n",
       "    }\n",
       "\n",
       "    .dataframe thead th {\n",
       "        text-align: right;\n",
       "    }\n",
       "</style>\n",
       "<table border=\"1\" class=\"dataframe\">\n",
       "  <thead>\n",
       "    <tr style=\"text-align: right;\">\n",
       "      <th></th>\n",
       "      <th>1stFlrSF</th>\n",
       "      <th>2ndFlrSF</th>\n",
       "      <th>3SsnPorch</th>\n",
       "      <th>Alley</th>\n",
       "      <th>BedroomAbvGr</th>\n",
       "      <th>BldgType</th>\n",
       "      <th>BsmtCond</th>\n",
       "      <th>BsmtExposure</th>\n",
       "      <th>BsmtFinSF1</th>\n",
       "      <th>BsmtFinSF2</th>\n",
       "      <th>...</th>\n",
       "      <th>ScreenPorch</th>\n",
       "      <th>Street</th>\n",
       "      <th>TotRmsAbvGrd</th>\n",
       "      <th>TotalBsmtSF</th>\n",
       "      <th>Utilities</th>\n",
       "      <th>WoodDeckSF</th>\n",
       "      <th>YearBuilt</th>\n",
       "      <th>YearRemodAdd</th>\n",
       "      <th>YrSold</th>\n",
       "      <th>SalePrice</th>\n",
       "    </tr>\n",
       "  </thead>\n",
       "  <tbody>\n",
       "    <tr>\n",
       "      <th>0</th>\n",
       "      <td>856.0</td>\n",
       "      <td>854.0</td>\n",
       "      <td>0.0</td>\n",
       "      <td>None</td>\n",
       "      <td>3</td>\n",
       "      <td>1Fam</td>\n",
       "      <td>TA</td>\n",
       "      <td>No</td>\n",
       "      <td>706.0</td>\n",
       "      <td>0.0</td>\n",
       "      <td>...</td>\n",
       "      <td>0.0</td>\n",
       "      <td>Pave</td>\n",
       "      <td>8</td>\n",
       "      <td>856.0</td>\n",
       "      <td>AllPub</td>\n",
       "      <td>0.0</td>\n",
       "      <td>2003</td>\n",
       "      <td>2003</td>\n",
       "      <td>2008</td>\n",
       "      <td>208500.0</td>\n",
       "    </tr>\n",
       "    <tr>\n",
       "      <th>1</th>\n",
       "      <td>1262.0</td>\n",
       "      <td>0.0</td>\n",
       "      <td>0.0</td>\n",
       "      <td>None</td>\n",
       "      <td>3</td>\n",
       "      <td>1Fam</td>\n",
       "      <td>TA</td>\n",
       "      <td>Gd</td>\n",
       "      <td>978.0</td>\n",
       "      <td>0.0</td>\n",
       "      <td>...</td>\n",
       "      <td>0.0</td>\n",
       "      <td>Pave</td>\n",
       "      <td>6</td>\n",
       "      <td>1262.0</td>\n",
       "      <td>AllPub</td>\n",
       "      <td>298.0</td>\n",
       "      <td>1976</td>\n",
       "      <td>1976</td>\n",
       "      <td>2007</td>\n",
       "      <td>181500.0</td>\n",
       "    </tr>\n",
       "    <tr>\n",
       "      <th>2</th>\n",
       "      <td>920.0</td>\n",
       "      <td>866.0</td>\n",
       "      <td>0.0</td>\n",
       "      <td>None</td>\n",
       "      <td>3</td>\n",
       "      <td>1Fam</td>\n",
       "      <td>TA</td>\n",
       "      <td>Mn</td>\n",
       "      <td>486.0</td>\n",
       "      <td>0.0</td>\n",
       "      <td>...</td>\n",
       "      <td>0.0</td>\n",
       "      <td>Pave</td>\n",
       "      <td>6</td>\n",
       "      <td>920.0</td>\n",
       "      <td>AllPub</td>\n",
       "      <td>0.0</td>\n",
       "      <td>2001</td>\n",
       "      <td>2002</td>\n",
       "      <td>2008</td>\n",
       "      <td>223500.0</td>\n",
       "    </tr>\n",
       "    <tr>\n",
       "      <th>3</th>\n",
       "      <td>961.0</td>\n",
       "      <td>756.0</td>\n",
       "      <td>0.0</td>\n",
       "      <td>None</td>\n",
       "      <td>3</td>\n",
       "      <td>1Fam</td>\n",
       "      <td>Gd</td>\n",
       "      <td>No</td>\n",
       "      <td>216.0</td>\n",
       "      <td>0.0</td>\n",
       "      <td>...</td>\n",
       "      <td>0.0</td>\n",
       "      <td>Pave</td>\n",
       "      <td>7</td>\n",
       "      <td>756.0</td>\n",
       "      <td>AllPub</td>\n",
       "      <td>0.0</td>\n",
       "      <td>1915</td>\n",
       "      <td>1970</td>\n",
       "      <td>2006</td>\n",
       "      <td>140000.0</td>\n",
       "    </tr>\n",
       "    <tr>\n",
       "      <th>4</th>\n",
       "      <td>1145.0</td>\n",
       "      <td>1053.0</td>\n",
       "      <td>0.0</td>\n",
       "      <td>None</td>\n",
       "      <td>4</td>\n",
       "      <td>1Fam</td>\n",
       "      <td>TA</td>\n",
       "      <td>Av</td>\n",
       "      <td>655.0</td>\n",
       "      <td>0.0</td>\n",
       "      <td>...</td>\n",
       "      <td>0.0</td>\n",
       "      <td>Pave</td>\n",
       "      <td>9</td>\n",
       "      <td>1145.0</td>\n",
       "      <td>AllPub</td>\n",
       "      <td>192.0</td>\n",
       "      <td>2000</td>\n",
       "      <td>2000</td>\n",
       "      <td>2008</td>\n",
       "      <td>250000.0</td>\n",
       "    </tr>\n",
       "  </tbody>\n",
       "</table>\n",
       "<p>5 rows × 80 columns</p>\n",
       "</div>"
      ],
      "text/plain": [
       "   1stFlrSF  2ndFlrSF  3SsnPorch Alley  BedroomAbvGr BldgType BsmtCond  \\\n",
       "0     856.0     854.0        0.0  None             3     1Fam       TA   \n",
       "1    1262.0       0.0        0.0  None             3     1Fam       TA   \n",
       "2     920.0     866.0        0.0  None             3     1Fam       TA   \n",
       "3     961.0     756.0        0.0  None             3     1Fam       Gd   \n",
       "4    1145.0    1053.0        0.0  None             4     1Fam       TA   \n",
       "\n",
       "  BsmtExposure  BsmtFinSF1  BsmtFinSF2  ... ScreenPorch Street  TotRmsAbvGrd  \\\n",
       "0           No       706.0         0.0  ...         0.0   Pave             8   \n",
       "1           Gd       978.0         0.0  ...         0.0   Pave             6   \n",
       "2           Mn       486.0         0.0  ...         0.0   Pave             6   \n",
       "3           No       216.0         0.0  ...         0.0   Pave             7   \n",
       "4           Av       655.0         0.0  ...         0.0   Pave             9   \n",
       "\n",
       "   TotalBsmtSF Utilities  WoodDeckSF YearBuilt YearRemodAdd YrSold SalePrice  \n",
       "0        856.0    AllPub         0.0      2003         2003   2008  208500.0  \n",
       "1       1262.0    AllPub       298.0      1976         1976   2007  181500.0  \n",
       "2        920.0    AllPub         0.0      2001         2002   2008  223500.0  \n",
       "3        756.0    AllPub         0.0      1915         1970   2006  140000.0  \n",
       "4       1145.0    AllPub       192.0      2000         2000   2008  250000.0  \n",
       "\n",
       "[5 rows x 80 columns]"
      ]
     },
     "execution_count": 37,
     "metadata": {},
     "output_type": "execute_result"
    }
   ],
   "source": [
    "data = pd.read_csv('../datasets/Ames_Housing_Sales.csv')\n",
    "data.head() #this returns top 5 rows of the dataset"
   ]
  },
  {
   "cell_type": "code",
   "execution_count": 38,
   "metadata": {},
   "outputs": [
    {
     "data": {
      "text/html": [
       "<div>\n",
       "<style scoped>\n",
       "    .dataframe tbody tr th:only-of-type {\n",
       "        vertical-align: middle;\n",
       "    }\n",
       "\n",
       "    .dataframe tbody tr th {\n",
       "        vertical-align: top;\n",
       "    }\n",
       "\n",
       "    .dataframe thead th {\n",
       "        text-align: right;\n",
       "    }\n",
       "</style>\n",
       "<table border=\"1\" class=\"dataframe\">\n",
       "  <thead>\n",
       "    <tr style=\"text-align: right;\">\n",
       "      <th></th>\n",
       "      <th>1stFlrSF</th>\n",
       "      <th>2ndFlrSF</th>\n",
       "      <th>3SsnPorch</th>\n",
       "      <th>BedroomAbvGr</th>\n",
       "      <th>BsmtFinSF1</th>\n",
       "      <th>BsmtFinSF2</th>\n",
       "      <th>BsmtFullBath</th>\n",
       "      <th>BsmtHalfBath</th>\n",
       "      <th>BsmtUnfSF</th>\n",
       "      <th>EnclosedPorch</th>\n",
       "      <th>...</th>\n",
       "      <th>OverallQual</th>\n",
       "      <th>PoolArea</th>\n",
       "      <th>ScreenPorch</th>\n",
       "      <th>TotRmsAbvGrd</th>\n",
       "      <th>TotalBsmtSF</th>\n",
       "      <th>WoodDeckSF</th>\n",
       "      <th>YearBuilt</th>\n",
       "      <th>YearRemodAdd</th>\n",
       "      <th>YrSold</th>\n",
       "      <th>SalePrice</th>\n",
       "    </tr>\n",
       "  </thead>\n",
       "  <tbody>\n",
       "    <tr>\n",
       "      <th>count</th>\n",
       "      <td>1379.000000</td>\n",
       "      <td>1379.000000</td>\n",
       "      <td>1379.000000</td>\n",
       "      <td>1379.000000</td>\n",
       "      <td>1379.000000</td>\n",
       "      <td>1379.000000</td>\n",
       "      <td>1379.000000</td>\n",
       "      <td>1379.000000</td>\n",
       "      <td>1379.000000</td>\n",
       "      <td>1379.000000</td>\n",
       "      <td>...</td>\n",
       "      <td>1379.000000</td>\n",
       "      <td>1379.000000</td>\n",
       "      <td>1379.000000</td>\n",
       "      <td>1379.000000</td>\n",
       "      <td>1379.000000</td>\n",
       "      <td>1379.000000</td>\n",
       "      <td>1379.000000</td>\n",
       "      <td>1379.000000</td>\n",
       "      <td>1379.000000</td>\n",
       "      <td>1379.00000</td>\n",
       "    </tr>\n",
       "    <tr>\n",
       "      <th>mean</th>\n",
       "      <td>1177.129804</td>\n",
       "      <td>353.424946</td>\n",
       "      <td>3.609862</td>\n",
       "      <td>2.865120</td>\n",
       "      <td>455.578680</td>\n",
       "      <td>48.102248</td>\n",
       "      <td>0.430747</td>\n",
       "      <td>0.058738</td>\n",
       "      <td>570.765047</td>\n",
       "      <td>21.039159</td>\n",
       "      <td>...</td>\n",
       "      <td>6.187092</td>\n",
       "      <td>2.920957</td>\n",
       "      <td>15.945613</td>\n",
       "      <td>6.552574</td>\n",
       "      <td>1074.445975</td>\n",
       "      <td>97.456853</td>\n",
       "      <td>1972.958666</td>\n",
       "      <td>1985.435098</td>\n",
       "      <td>2007.812183</td>\n",
       "      <td>185479.51124</td>\n",
       "    </tr>\n",
       "    <tr>\n",
       "      <th>std</th>\n",
       "      <td>387.014961</td>\n",
       "      <td>439.553171</td>\n",
       "      <td>30.154682</td>\n",
       "      <td>0.783961</td>\n",
       "      <td>459.691379</td>\n",
       "      <td>164.324665</td>\n",
       "      <td>0.514052</td>\n",
       "      <td>0.238285</td>\n",
       "      <td>443.677845</td>\n",
       "      <td>60.535107</td>\n",
       "      <td>...</td>\n",
       "      <td>1.345780</td>\n",
       "      <td>41.335545</td>\n",
       "      <td>57.249593</td>\n",
       "      <td>1.589821</td>\n",
       "      <td>436.371874</td>\n",
       "      <td>126.699192</td>\n",
       "      <td>29.379883</td>\n",
       "      <td>20.444852</td>\n",
       "      <td>1.330221</td>\n",
       "      <td>79023.89060</td>\n",
       "    </tr>\n",
       "    <tr>\n",
       "      <th>min</th>\n",
       "      <td>438.000000</td>\n",
       "      <td>0.000000</td>\n",
       "      <td>0.000000</td>\n",
       "      <td>0.000000</td>\n",
       "      <td>0.000000</td>\n",
       "      <td>0.000000</td>\n",
       "      <td>0.000000</td>\n",
       "      <td>0.000000</td>\n",
       "      <td>0.000000</td>\n",
       "      <td>0.000000</td>\n",
       "      <td>...</td>\n",
       "      <td>2.000000</td>\n",
       "      <td>0.000000</td>\n",
       "      <td>0.000000</td>\n",
       "      <td>3.000000</td>\n",
       "      <td>0.000000</td>\n",
       "      <td>0.000000</td>\n",
       "      <td>1880.000000</td>\n",
       "      <td>1950.000000</td>\n",
       "      <td>2006.000000</td>\n",
       "      <td>35311.00000</td>\n",
       "    </tr>\n",
       "    <tr>\n",
       "      <th>25%</th>\n",
       "      <td>894.000000</td>\n",
       "      <td>0.000000</td>\n",
       "      <td>0.000000</td>\n",
       "      <td>2.000000</td>\n",
       "      <td>0.000000</td>\n",
       "      <td>0.000000</td>\n",
       "      <td>0.000000</td>\n",
       "      <td>0.000000</td>\n",
       "      <td>228.000000</td>\n",
       "      <td>0.000000</td>\n",
       "      <td>...</td>\n",
       "      <td>5.000000</td>\n",
       "      <td>0.000000</td>\n",
       "      <td>0.000000</td>\n",
       "      <td>5.000000</td>\n",
       "      <td>810.000000</td>\n",
       "      <td>0.000000</td>\n",
       "      <td>1955.000000</td>\n",
       "      <td>1968.000000</td>\n",
       "      <td>2007.000000</td>\n",
       "      <td>134000.00000</td>\n",
       "    </tr>\n",
       "    <tr>\n",
       "      <th>50%</th>\n",
       "      <td>1098.000000</td>\n",
       "      <td>0.000000</td>\n",
       "      <td>0.000000</td>\n",
       "      <td>3.000000</td>\n",
       "      <td>400.000000</td>\n",
       "      <td>0.000000</td>\n",
       "      <td>0.000000</td>\n",
       "      <td>0.000000</td>\n",
       "      <td>476.000000</td>\n",
       "      <td>0.000000</td>\n",
       "      <td>...</td>\n",
       "      <td>6.000000</td>\n",
       "      <td>0.000000</td>\n",
       "      <td>0.000000</td>\n",
       "      <td>6.000000</td>\n",
       "      <td>1008.000000</td>\n",
       "      <td>0.000000</td>\n",
       "      <td>1976.000000</td>\n",
       "      <td>1994.000000</td>\n",
       "      <td>2008.000000</td>\n",
       "      <td>167500.00000</td>\n",
       "    </tr>\n",
       "    <tr>\n",
       "      <th>75%</th>\n",
       "      <td>1414.000000</td>\n",
       "      <td>738.500000</td>\n",
       "      <td>0.000000</td>\n",
       "      <td>3.000000</td>\n",
       "      <td>732.000000</td>\n",
       "      <td>0.000000</td>\n",
       "      <td>1.000000</td>\n",
       "      <td>0.000000</td>\n",
       "      <td>811.000000</td>\n",
       "      <td>0.000000</td>\n",
       "      <td>...</td>\n",
       "      <td>7.000000</td>\n",
       "      <td>0.000000</td>\n",
       "      <td>0.000000</td>\n",
       "      <td>7.000000</td>\n",
       "      <td>1314.000000</td>\n",
       "      <td>171.000000</td>\n",
       "      <td>2001.000000</td>\n",
       "      <td>2004.000000</td>\n",
       "      <td>2009.000000</td>\n",
       "      <td>217750.00000</td>\n",
       "    </tr>\n",
       "    <tr>\n",
       "      <th>max</th>\n",
       "      <td>4692.000000</td>\n",
       "      <td>2065.000000</td>\n",
       "      <td>508.000000</td>\n",
       "      <td>6.000000</td>\n",
       "      <td>5644.000000</td>\n",
       "      <td>1474.000000</td>\n",
       "      <td>2.000000</td>\n",
       "      <td>2.000000</td>\n",
       "      <td>2336.000000</td>\n",
       "      <td>552.000000</td>\n",
       "      <td>...</td>\n",
       "      <td>10.000000</td>\n",
       "      <td>738.000000</td>\n",
       "      <td>480.000000</td>\n",
       "      <td>12.000000</td>\n",
       "      <td>6110.000000</td>\n",
       "      <td>857.000000</td>\n",
       "      <td>2010.000000</td>\n",
       "      <td>2010.000000</td>\n",
       "      <td>2010.000000</td>\n",
       "      <td>755000.00000</td>\n",
       "    </tr>\n",
       "  </tbody>\n",
       "</table>\n",
       "<p>8 rows × 37 columns</p>\n",
       "</div>"
      ],
      "text/plain": [
       "          1stFlrSF     2ndFlrSF    3SsnPorch  BedroomAbvGr   BsmtFinSF1  \\\n",
       "count  1379.000000  1379.000000  1379.000000   1379.000000  1379.000000   \n",
       "mean   1177.129804   353.424946     3.609862      2.865120   455.578680   \n",
       "std     387.014961   439.553171    30.154682      0.783961   459.691379   \n",
       "min     438.000000     0.000000     0.000000      0.000000     0.000000   \n",
       "25%     894.000000     0.000000     0.000000      2.000000     0.000000   \n",
       "50%    1098.000000     0.000000     0.000000      3.000000   400.000000   \n",
       "75%    1414.000000   738.500000     0.000000      3.000000   732.000000   \n",
       "max    4692.000000  2065.000000   508.000000      6.000000  5644.000000   \n",
       "\n",
       "        BsmtFinSF2  BsmtFullBath  BsmtHalfBath    BsmtUnfSF  EnclosedPorch  \\\n",
       "count  1379.000000   1379.000000   1379.000000  1379.000000    1379.000000   \n",
       "mean     48.102248      0.430747      0.058738   570.765047      21.039159   \n",
       "std     164.324665      0.514052      0.238285   443.677845      60.535107   \n",
       "min       0.000000      0.000000      0.000000     0.000000       0.000000   \n",
       "25%       0.000000      0.000000      0.000000   228.000000       0.000000   \n",
       "50%       0.000000      0.000000      0.000000   476.000000       0.000000   \n",
       "75%       0.000000      1.000000      0.000000   811.000000       0.000000   \n",
       "max    1474.000000      2.000000      2.000000  2336.000000     552.000000   \n",
       "\n",
       "       ...  OverallQual     PoolArea  ScreenPorch  TotRmsAbvGrd  TotalBsmtSF  \\\n",
       "count  ...  1379.000000  1379.000000  1379.000000   1379.000000  1379.000000   \n",
       "mean   ...     6.187092     2.920957    15.945613      6.552574  1074.445975   \n",
       "std    ...     1.345780    41.335545    57.249593      1.589821   436.371874   \n",
       "min    ...     2.000000     0.000000     0.000000      3.000000     0.000000   \n",
       "25%    ...     5.000000     0.000000     0.000000      5.000000   810.000000   \n",
       "50%    ...     6.000000     0.000000     0.000000      6.000000  1008.000000   \n",
       "75%    ...     7.000000     0.000000     0.000000      7.000000  1314.000000   \n",
       "max    ...    10.000000   738.000000   480.000000     12.000000  6110.000000   \n",
       "\n",
       "        WoodDeckSF    YearBuilt  YearRemodAdd       YrSold     SalePrice  \n",
       "count  1379.000000  1379.000000   1379.000000  1379.000000    1379.00000  \n",
       "mean     97.456853  1972.958666   1985.435098  2007.812183  185479.51124  \n",
       "std     126.699192    29.379883     20.444852     1.330221   79023.89060  \n",
       "min       0.000000  1880.000000   1950.000000  2006.000000   35311.00000  \n",
       "25%       0.000000  1955.000000   1968.000000  2007.000000  134000.00000  \n",
       "50%       0.000000  1976.000000   1994.000000  2008.000000  167500.00000  \n",
       "75%     171.000000  2001.000000   2004.000000  2009.000000  217750.00000  \n",
       "max     857.000000  2010.000000   2010.000000  2010.000000  755000.00000  \n",
       "\n",
       "[8 rows x 37 columns]"
      ]
     },
     "execution_count": 38,
     "metadata": {},
     "output_type": "execute_result"
    }
   ],
   "source": [
    "# to get descriptive statistics of the dataset\n",
    "data.describe()"
   ]
  },
  {
   "cell_type": "markdown",
   "metadata": {},
   "source": [
    "👀 Look for the `mean`, `min`, `25%`, `50%`, `75%`, and `max` row variables for the very first columns `1stFlrSF`.\n",
    "- `25%` data  falls below `894.00`\n",
    "- `50%` data falls below `1098.00`\n",
    "- `75%` data falls below `1414.00`\n",
    "The `max` value of the variable is `4692.00` which is far from the `mean` value of `1177.12`. It is not that far but still.\n",
    "\n",
    "Now we can't go and check each column one by one. So we'll some approach to detect them."
   ]
  },
  {
   "cell_type": "markdown",
   "metadata": {},
   "source": [
    "## Set up separate variables for features and target"
   ]
  },
  {
   "cell_type": "code",
   "execution_count": 39,
   "metadata": {},
   "outputs": [],
   "source": [
    "target_col = \"SalePrice\"\n",
    "\n",
    "X = data.drop(target_col, axis=1) # features\n",
    "y = data[target_col] # target"
   ]
  },
  {
   "cell_type": "markdown",
   "metadata": {},
   "source": [
    "## Discover Outlier 🔎\n",
    "### Discover outliers statistically 📈\n",
    "\n",
    "Using IQR (Inter Quartile Range) to find the outliers, which is the most commonly used and most trusted approach."
   ]
  },
  {
   "cell_type": "code",
   "execution_count": 40,
   "metadata": {},
   "outputs": [
    {
     "data": {
      "text/plain": [
       "Index(['1stFlrSF', '2ndFlrSF', '3SsnPorch', 'BedroomAbvGr', 'BsmtFinSF1',\n",
       "       'BsmtFinSF2', 'BsmtFullBath', 'BsmtHalfBath', 'BsmtUnfSF',\n",
       "       'EnclosedPorch', 'Fireplaces', 'FullBath', 'GarageArea', 'GarageCars',\n",
       "       'GarageYrBlt', 'GrLivArea', 'HalfBath', 'KitchenAbvGr', 'LotArea',\n",
       "       'LotFrontage', 'LowQualFinSF', 'MSSubClass', 'MasVnrArea', 'MiscVal',\n",
       "       'MoSold', 'OpenPorchSF', 'OverallCond', 'OverallQual', 'PoolArea',\n",
       "       'ScreenPorch', 'TotRmsAbvGrd', 'TotalBsmtSF', 'WoodDeckSF', 'YearBuilt',\n",
       "       'YearRemodAdd', 'YrSold'],\n",
       "      dtype='object')"
      ]
     },
     "execution_count": 40,
     "metadata": {},
     "output_type": "execute_result"
    }
   ],
   "source": [
    "# create a list of numeric columns\n",
    "numeric_mask = X.dtypes != np.object\n",
    "numeric_cols = X.columns[numeric_mask]\n",
    "numeric_cols"
   ]
  },
  {
   "cell_type": "markdown",
   "metadata": {},
   "source": [
    "Now that we've list of numeric columns, for every column calculate IQR (Inter Quartile Range), and identify the outliers."
   ]
  },
  {
   "cell_type": "code",
   "execution_count": 41,
   "metadata": {},
   "outputs": [
    {
     "name": "stdout",
     "output_type": "stream",
     "text": [
      "1stFlrSF  :  [2207.0, 2223.0, 2259.0, 2234.0, 2392.0, 2402.0, 3228.0, 3138.0, 2515.0, 2444.0, 2217.0, 2364.0, 2898.0, 2524.0, 2411.0, 2196.0, 4692.0, 2633.0]\n",
      "2ndFlrSF  :  [1872.0, 2065.0]\n",
      "3SsnPorch  :  [320.0, 407.0, 130.0, 180.0, 168.0, 180.0, 140.0, 508.0, 238.0, 245.0, 196.0, 144.0, 144.0, 182.0, 168.0, 162.0, 23.0, 168.0, 216.0, 96.0, 216.0, 153.0, 290.0, 304.0]\n",
      "BedroomAbvGr  :  [0, 5, 5, 6, 0, 5, 5, 6, 6, 5, 0, 5, 5, 5, 6, 5, 5, 5, 5, 5, 5, 0, 0, 5, 0, 5, 6, 5, 5]\n",
      "BsmtFinSF1  :  [1880.0, 1904.0, 2260.0, 2188.0, 2096.0, 5644.0]\n",
      "BsmtFinSF2  :  [32.0, 668.0, 486.0, 93.0, 491.0, 506.0, 712.0, 362.0, 41.0, 169.0, 869.0, 150.0, 670.0, 28.0, 1080.0, 768.0, 215.0, 374.0, 208.0, 441.0, 184.0, 279.0, 306.0, 180.0, 712.0, 580.0, 690.0, 692.0, 228.0, 125.0, 1063.0, 620.0, 175.0, 820.0, 1474.0, 264.0, 479.0, 147.0, 232.0, 380.0, 544.0, 294.0, 258.0, 121.0, 180.0, 391.0, 531.0, 344.0, 539.0, 713.0, 210.0, 311.0, 1120.0, 165.0, 532.0, 279.0, 96.0, 495.0, 180.0, 174.0, 1127.0, 139.0, 202.0, 645.0, 123.0, 551.0, 219.0, 606.0, 147.0, 612.0, 182.0, 132.0, 336.0, 468.0, 287.0, 35.0, 180.0, 180.0, 723.0, 119.0, 182.0, 40.0, 551.0, 117.0, 239.0, 80.0, 472.0, 64.0, 1057.0, 127.0, 630.0, 480.0, 128.0, 377.0, 764.0, 345.0, 539.0, 1085.0, 435.0, 823.0, 500.0, 290.0, 324.0, 634.0, 411.0, 841.0, 1061.0, 93.0, 466.0, 396.0, 354.0, 294.0, 149.0, 193.0, 117.0, 273.0, 465.0, 400.0, 468.0, 41.0, 682.0, 64.0, 557.0, 230.0, 106.0, 791.0, 240.0, 287.0, 547.0, 391.0, 177.0, 108.0, 374.0, 600.0, 492.0, 211.0, 168.0, 96.0, 1031.0, 438.0, 375.0, 144.0, 81.0, 906.0, 608.0, 276.0, 661.0, 68.0, 173.0, 972.0, 105.0, 420.0, 469.0, 546.0, 334.0, 352.0, 872.0, 374.0, 110.0, 627.0, 163.0, 1029.0, 290.0]\n",
      "BsmtFullBath  :  []\n",
      "BsmtHalfBath  :  [1, 1, 1, 1, 1, 1, 1, 1, 1, 1, 1, 1, 1, 1, 1, 1, 1, 1, 1, 1, 1, 1, 1, 1, 1, 1, 1, 1, 1, 1, 1, 1, 1, 1, 1, 2, 1, 1, 1, 1, 1, 1, 1, 1, 1, 1, 1, 1, 1, 1, 1, 1, 1, 1, 1, 1, 1, 1, 1, 1, 1, 1, 1, 1, 1, 1, 1, 1, 1, 1, 1, 1, 1, 1, 1, 1, 1, 1, 1, 1]\n",
      "BsmtUnfSF  :  [1777.0, 1907.0, 1686.0, 2336.0, 1694.0, 2121.0, 1869.0, 2153.0, 1969.0, 1709.0, 2042.0, 1774.0, 2046.0, 1836.0, 1935.0, 1926.0, 1734.0, 1753.0, 1905.0, 1800.0, 1710.0, 1752.0, 1694.0, 1689.0, 2002.0, 1753.0, 1795.0]\n",
      "EnclosedPorch  :  [272.0, 228.0, 205.0, 176.0, 205.0, 87.0, 172.0, 37.0, 144.0, 64.0, 114.0, 202.0, 128.0, 44.0, 77.0, 192.0, 144.0, 140.0, 180.0, 228.0, 183.0, 39.0, 184.0, 40.0, 552.0, 126.0, 60.0, 150.0, 120.0, 202.0, 77.0, 112.0, 252.0, 52.0, 224.0, 234.0, 144.0, 244.0, 268.0, 137.0, 24.0, 108.0, 294.0, 177.0, 218.0, 242.0, 91.0, 112.0, 160.0, 130.0, 184.0, 126.0, 169.0, 105.0, 34.0, 96.0, 248.0, 236.0, 120.0, 32.0, 80.0, 291.0, 184.0, 116.0, 158.0, 112.0, 36.0, 156.0, 200.0, 84.0, 116.0, 120.0, 136.0, 102.0, 240.0, 54.0, 112.0, 39.0, 36.0, 189.0, 293.0, 40.0, 216.0, 239.0, 112.0, 252.0, 240.0, 180.0, 67.0, 90.0, 120.0, 56.0, 112.0, 129.0, 40.0, 98.0, 143.0, 216.0, 234.0, 112.0, 112.0, 70.0, 386.0, 154.0, 185.0, 156.0, 156.0, 196.0, 264.0, 185.0, 275.0, 96.0, 120.0, 112.0, 230.0, 254.0, 68.0, 194.0, 192.0, 34.0, 150.0, 164.0, 112.0, 224.0, 32.0, 318.0, 244.0, 48.0, 94.0, 108.0, 112.0, 226.0, 192.0, 174.0, 19.0, 170.0, 220.0, 128.0, 80.0, 137.0, 192.0, 252.0, 112.0, 96.0, 216.0, 176.0, 214.0, 280.0, 96.0, 116.0, 102.0, 236.0, 192.0, 84.0, 330.0, 208.0, 145.0, 259.0, 126.0, 264.0, 81.0, 164.0, 42.0, 123.0, 162.0, 190.0, 168.0, 301.0, 198.0, 96.0, 221.0, 112.0, 212.0, 50.0, 150.0, 168.0, 112.0, 160.0, 114.0, 216.0, 154.0, 99.0, 158.0, 216.0, 252.0, 112.0]\n",
      "Fireplaces  :  [3, 3, 3, 3, 3]\n",
      "FullBath  :  []\n",
      "GarageArea  :  [890.0, 894.0, 1166.0, 968.0, 884.0, 924.0, 1053.0, 898.0, 888.0, 1025.0, 947.0, 908.0, 900.0, 889.0, 884.0, 908.0, 1390.0, 1134.0, 983.0, 888.0, 895.0, 1020.0, 1220.0, 902.0, 900.0, 912.0, 905.0, 1248.0, 1043.0, 884.0, 928.0, 1052.0, 924.0, 995.0, 1356.0, 1052.0, 954.0, 888.0, 1014.0, 1418.0, 895.0, 968.0, 936.0, 936.0, 1069.0, 923.0]\n",
      "GarageCars  :  [4, 4, 4, 4, 4]\n",
      "GarageYrBlt  :  []\n",
      "GrLivArea  :  [2945.0, 3222.0, 3608.0, 3112.0, 2794.0, 3493.0, 2978.0, 3228.0, 4676.0, 2775.0, 3194.0, 4316.0, 3279.0, 3140.0, 2822.0, 2872.0, 2898.0, 3082.0, 2868.0, 2828.0, 3627.0, 2872.0, 4476.0, 3447.0, 5642.0, 2810.0, 2792.0, 3238.0, 2784.0]\n",
      "HalfBath  :  []\n",
      "KitchenAbvGr  :  [2, 2, 2, 2, 2, 2, 2, 2, 2, 2, 2, 2, 2, 2, 2, 2, 2, 2, 2, 2, 2, 2, 2, 2, 2, 3, 2, 2, 2, 2, 2, 2, 2, 2, 2, 2, 2, 2, 2, 2, 2, 2, 2, 2, 2, 2, 2, 2, 2, 2, 2, 2]\n",
      "LotArea  :  [50271.0, 19900.0, 1596.0, 21000.0, 21453.0, 19378.0, 31770.0, 22950.0, 25419.0, 1680.0, 1680.0, 1680.0, 159000.0, 19296.0, 39104.0, 19138.0, 18386.0, 215245.0, 164660.0, 20431.0, 1680.0, 18800.0, 53107.0, 34650.0, 22420.0, 21750.0, 1680.0, 70761.0, 53227.0, 1526.0, 40094.0, 32668.0, 21872.0, 21780.0, 25095.0, 1680.0, 46589.0, 20896.0, 18450.0, 21535.0, 26178.0, 115149.0, 21695.0, 53504.0, 21384.0, 28698.0, 1680.0, 45600.0, 17920.0, 25286.0, 27650.0, 24090.0, 25000.0, 1300.0, 17671.0, 21286.0, 1680.0, 1477.0, 21750.0, 29959.0, 18000.0, 23257.0, 17755.0, 35760.0, 35133.0, 32463.0, 18890.0, 24682.0, 23595.0, 17871.0, 36500.0, 1680.0, 63887.0, 20781.0, 25339.0, 57200.0, 20544.0, 19690.0, 21930.0, 26142.0]\n",
      "LotFrontage  :  [141.06735979665885, 144.9137674618944, 134.0, 141.0, 174.0, 174.0, 140.0, 150.0, 405.7831933434405, 132.664991614216, 137.11309200802089, 230.4495606418029, 137.0, 135.83077707206124, 147.29222654301893, 144.0, 149.0, 130.91982279242512, 313.0, 155.20953578952552, 173.0866834854721, 168.0, 182.0, 134.0, 160.0, 180.1749150131616, 152.0, 137.44089638822936, 132.4462154989715, 153.60664048145838, 191.049731745428, 313.0, 159.1822854465911, 239.165214862028]\n",
      "LowQualFinSF  :  [360.0, 528.0, 572.0, 144.0, 392.0, 390.0, 420.0, 473.0, 156.0, 360.0, 80.0, 80.0, 53.0, 232.0, 481.0, 120.0, 397.0, 80.0, 384.0]\n",
      "MSSubClass  :  [190, 160, 180, 160, 190, 160, 160, 160, 160, 160, 160, 160, 160, 160, 160, 160, 190, 160, 190, 190, 190, 160, 160, 160, 190, 160, 160, 180, 190, 180, 160, 160, 160, 160, 160, 160, 160, 190, 160, 160, 160, 160, 190, 190, 160, 160, 160, 160, 160, 190, 160, 160, 160, 160, 160, 190, 160, 160, 190, 160, 160, 180, 190, 160, 160, 160, 160, 160, 190, 160, 160, 190, 190, 160, 160, 160, 190, 160, 180, 160, 160, 160, 160, 160, 160, 190, 190, 180]\n",
      "MasVnrArea  :  [640.0, 650.0, 456.0, 1031.0, 573.0, 1115.0, 576.0, 443.0, 468.0, 600.0, 768.0, 480.0, 1129.0, 436.0, 456.0, 664.0, 653.0, 491.0, 748.0, 456.0, 922.0, 506.0, 604.0, 472.0, 481.0, 1600.0, 616.0, 870.0, 530.0, 500.0, 510.0, 650.0, 432.0, 473.0, 772.0, 435.0, 562.0, 921.0, 762.0, 594.0, 479.0, 584.0, 459.0, 452.0, 513.0, 472.0, 660.0, 528.0, 464.0, 1170.0, 630.0, 466.0, 651.0, 442.0, 894.0, 513.0, 673.0, 603.0, 860.0, 1047.0, 442.0, 816.0, 760.0, 541.0, 975.0, 450.0, 571.0, 480.0, 660.0, 1378.0, 456.0, 766.0, 554.0, 632.0, 567.0, 451.0, 621.0, 788.0, 796.0, 428.0, 564.0, 579.0, 705.0, 731.0, 448.0, 438.0]\n",
      "MiscVal  :  [700.0, 350.0, 700.0, 500.0, 400.0, 700.0, 480.0, 400.0, 450.0, 450.0, 500.0, 700.0, 400.0, 15500.0, 1200.0, 800.0, 480.0, 400.0, 2000.0, 2000.0, 600.0, 500.0, 600.0, 600.0, 500.0, 400.0, 450.0, 500.0, 1300.0, 1200.0, 500.0, 400.0, 54.0, 500.0, 400.0, 400.0, 2000.0, 620.0, 400.0, 560.0, 500.0, 700.0, 1400.0, 400.0, 8300.0, 600.0, 1150.0, 2000.0, 2500.0]\n",
      "MoSold  :  []\n",
      "OpenPorchSF  :  [204.0, 213.0, 258.0, 199.0, 234.0, 184.0, 205.0, 228.0, 238.0, 260.0, 208.0, 228.0, 250.0, 175.0, 195.0, 214.0, 231.0, 192.0, 187.0, 176.0, 285.0, 406.0, 182.0, 502.0, 274.0, 243.0, 235.0, 312.0, 267.0, 265.0, 288.0, 341.0, 204.0, 174.0, 247.0, 312.0, 418.0, 240.0, 364.0, 188.0, 207.0, 234.0, 192.0, 191.0, 252.0, 189.0, 282.0, 224.0, 319.0, 244.0, 185.0, 180.0, 263.0, 304.0, 234.0, 240.0, 229.0, 211.0, 198.0, 287.0, 292.0, 207.0, 241.0, 547.0, 211.0, 184.0, 262.0, 210.0, 236.0]\n",
      "OverallCond  :  [8, 8, 8, 3, 8, 8, 8, 9, 8, 9, 9, 3, 8, 8, 8, 9, 8, 3, 8, 8, 8, 2, 3, 8, 2, 8, 3, 8, 8, 8, 8, 9, 8, 8, 8, 8, 9, 9, 3, 8, 8, 9, 8, 8, 8, 3, 2, 8, 8, 9, 8, 8, 9, 8, 9, 3, 8, 8, 8, 8, 8, 8, 8, 8, 8, 8, 3, 8, 8, 8, 8, 9, 8, 9, 8, 3, 8, 3, 3, 3, 8, 3, 8, 8, 3, 3, 9, 8, 8, 8, 8, 8, 8, 8, 9, 3, 8, 8, 8, 9, 8, 3, 9, 9, 3, 8, 8, 8, 9, 9]\n",
      "OverallQual  :  []\n",
      "PoolArea  :  [512.0, 648.0, 576.0, 555.0, 480.0, 519.0, 738.0]\n",
      "ScreenPorch  :  [176.0, 198.0, 291.0, 252.0, 99.0, 184.0, 168.0, 130.0, 142.0, 192.0, 410.0, 224.0, 266.0, 170.0, 154.0, 153.0, 144.0, 142.0, 128.0, 259.0, 160.0, 198.0, 271.0, 234.0, 184.0, 374.0, 192.0, 185.0, 182.0, 90.0, 144.0, 224.0, 396.0, 170.0, 176.0, 140.0, 276.0, 192.0, 180.0, 161.0, 168.0, 145.0, 200.0, 122.0, 95.0, 144.0, 120.0, 60.0, 120.0, 126.0, 189.0, 260.0, 147.0, 385.0, 287.0, 200.0, 156.0, 100.0, 180.0, 216.0, 210.0, 197.0, 204.0, 192.0, 225.0, 192.0, 152.0, 175.0, 126.0, 312.0, 222.0, 265.0, 224.0, 322.0, 120.0, 190.0, 233.0, 63.0, 147.0, 180.0, 53.0, 143.0, 189.0, 189.0, 189.0, 192.0, 160.0, 160.0, 126.0, 100.0, 273.0, 180.0, 90.0, 288.0, 263.0, 224.0, 147.0, 120.0, 80.0, 163.0, 90.0, 288.0, 116.0, 259.0, 224.0, 216.0, 480.0, 120.0, 178.0, 440.0, 155.0, 168.0, 220.0, 119.0, 165.0, 40.0]\n",
      "TotRmsAbvGrd  :  [11, 11, 12, 11, 11, 11, 11, 11, 12, 11, 12, 11, 11, 12, 11, 12, 11, 12, 11, 11, 12, 11, 11, 12, 12, 12, 11, 11]\n",
      "TotalBsmtSF  :  [0.0, 2223.0, 0.0, 0.0, 0.0, 2216.0, 0.0, 2392.0, 0.0, 2121.0, 2136.0, 3206.0, 0.0, 0.0, 0.0, 0.0, 3094.0, 2153.0, 3200.0, 3138.0, 0.0, 0.0, 0.0, 2109.0, 2077.0, 2444.0, 0.0, 0.0, 0.0, 2078.0, 0.0, 2217.0, 0.0, 0.0, 2330.0, 0.0, 0.0, 0.0, 2524.0, 0.0, 0.0, 0.0, 0.0, 2396.0, 2158.0, 0.0, 2136.0, 0.0, 2076.0, 2110.0, 6110.0, 0.0, 2633.0, 0.0]\n",
      "WoodDeckSF  :  [857.0, 576.0, 476.0, 574.0, 441.0, 468.0, 670.0, 495.0, 536.0, 519.0, 466.0, 517.0, 503.0, 486.0, 486.0, 511.0, 550.0, 509.0, 474.0, 728.0, 436.0, 431.0, 448.0, 439.0, 635.0, 500.0, 668.0, 586.0, 431.0, 736.0]\n",
      "YearBuilt  :  [1885, 1880, 1880, 1880, 1882, 1880, 1885]\n",
      "YearRemodAdd  :  []\n",
      "YrSold  :  []\n"
     ]
    }
   ],
   "source": [
    "for col in numeric_cols:\n",
    "    # Calculate the IQR (Inter Quartile Range)\n",
    "    Q1 = np.percentile(X[col], 25, interpolation = 'midpoint')\n",
    "    Q3 = np.percentile(X[col], 75, interpolation = 'midpoint')\n",
    "    IQR = Q3 - Q1\n",
    "    \n",
    "    # Min-max limit to be considered as an outlier\n",
    "    min = Q1-1.5*IQR\n",
    "    max = Q3+1.5*IQR\n",
    "    \n",
    "    # Identify the points\n",
    "    outliers = [x for x in X[col] if x > max or x < min]\n",
    "    print(col,' : ',outliers)"
   ]
  },
  {
   "cell_type": "markdown",
   "metadata": {},
   "source": [
    "### Discover outliers with visualization tools 📊\n",
    "You can discover outliers visually using box plot, scatter plot, histogram density plot. Here's 👇 how you can discover outliers using box plot"
   ]
  },
  {
   "cell_type": "code",
   "execution_count": 42,
   "metadata": {},
   "outputs": [
    {
     "data": {
      "text/plain": [
       "<AxesSubplot:xlabel='BsmtFinSF1'>"
      ]
     },
     "execution_count": 42,
     "metadata": {},
     "output_type": "execute_result"
    },
    {
     "data": {
      "image/png": "[encoded data removed]",
      "text/plain": [
       "<Figure size 432x288 with 1 Axes>"
      ]
     },
     "metadata": {
      "needs_background": "light"
     },
     "output_type": "display_data"
    }
   ],
   "source": [
    "# plotting for the column \"BsmtFinSF1\"\n",
    "sns.boxplot(data['BsmtFinSF1'])"
   ]
  },
  {
   "cell_type": "markdown",
   "metadata": {},
   "source": [
    "In the above graph, values above 2000 are acting as outliers."
   ]
  },
  {
   "cell_type": "markdown",
   "metadata": {},
   "source": [
    "## Remove Outliers ❎\n",
    "\n",
    "Let's try removing outliers and see how it's affecting our prediction."
   ]
  },
  {
   "cell_type": "code",
   "execution_count": 43,
   "metadata": {},
   "outputs": [
    {
     "name": "stdout",
     "output_type": "stream",
     "text": [
      "Old Shape:  (1379, 80)\n",
      "New Shape:  (546, 80)\n"
     ]
    }
   ],
   "source": [
    "# Copy of the data\n",
    "data_ro = data.copy()\n",
    "\n",
    "Q1 = data_ro.quantile(0.25)\n",
    "Q3 = data_ro.quantile(0.75)\n",
    "IQR = Q3 - Q1\n",
    "\n",
    "data_ro = data_ro[~((data_ro < (Q1 - 1.5 * IQR)) |(data_ro > (Q3 + 1.5 * IQR))).any(axis=1)]\n",
    "print(\"Old Shape: \", data.shape)\n",
    "print(\"New Shape: \", data_ro.shape)"
   ]
  },
  {
   "cell_type": "markdown",
   "metadata": {},
   "source": [
    "Nearly half of the observation got removed.\n",
    "Now we'll fit a basic linear regression model and also calculate R2 Score."
   ]
  },
  {
   "cell_type": "markdown",
   "metadata": {},
   "source": [
    "## Set up separate variables for features and target for dataframe with no outlier"
   ]
  },
  {
   "cell_type": "code",
   "execution_count": 44,
   "metadata": {},
   "outputs": [],
   "source": [
    "X_ro = data_ro[numeric_cols] # also removing categorical data\n",
    "y_ro = data_ro['SalePrice']"
   ]
  },
  {
   "cell_type": "markdown",
   "metadata": {},
   "source": [
    "## Create train and test splits ⚔️\n",
    "### For datasets with outliers"
   ]
  },
  {
   "cell_type": "code",
   "execution_count": 45,
   "metadata": {},
   "outputs": [],
   "source": [
    "# drop categorical data\n",
    "X = X[numeric_cols]"
   ]
  },
  {
   "cell_type": "code",
   "execution_count": 46,
   "metadata": {},
   "outputs": [],
   "source": [
    "# import train_test_split\n",
    "from sklearn.model_selection import train_test_split\n",
    "X_train, X_test, y_train, y_test = train_test_split(X, y, test_size=0.3) # splits train and test in 7:3 ratio"
   ]
  },
  {
   "cell_type": "markdown",
   "metadata": {},
   "source": [
    "### For datasets with no outliets"
   ]
  },
  {
   "cell_type": "code",
   "execution_count": 47,
   "metadata": {},
   "outputs": [],
   "source": [
    "X_train_ro, X_test_ro, y_train_ro, y_test_ro = train_test_split(X_ro, y_ro, test_size=0.3) # splits train and test in 7:3 ratio"
   ]
  },
  {
   "cell_type": "markdown",
   "metadata": {},
   "source": [
    "## Fit Linear Regression Model and calculate the R2 Score"
   ]
  },
  {
   "cell_type": "code",
   "execution_count": 48,
   "metadata": {},
   "outputs": [],
   "source": [
    "# import linear regression and create an instance of it\n",
    "from sklearn.linear_model import LinearRegression\n",
    "LR = LinearRegression()"
   ]
  },
  {
   "cell_type": "code",
   "execution_count": 49,
   "metadata": {},
   "outputs": [],
   "source": [
    "# import r2 score\n",
    "from sklearn.metrics import r2_score"
   ]
  },
  {
   "cell_type": "code",
   "execution_count": 50,
   "metadata": {},
   "outputs": [
    {
     "data": {
      "text/html": [
       "<div>\n",
       "<style scoped>\n",
       "    .dataframe tbody tr th:only-of-type {\n",
       "        vertical-align: middle;\n",
       "    }\n",
       "\n",
       "    .dataframe tbody tr th {\n",
       "        vertical-align: top;\n",
       "    }\n",
       "\n",
       "    .dataframe thead th {\n",
       "        text-align: right;\n",
       "    }\n",
       "</style>\n",
       "<table border=\"1\" class=\"dataframe\">\n",
       "  <thead>\n",
       "    <tr style=\"text-align: right;\">\n",
       "      <th></th>\n",
       "      <th>with outliers</th>\n",
       "      <th>with no outliers</th>\n",
       "    </tr>\n",
       "  </thead>\n",
       "  <tbody>\n",
       "    <tr>\n",
       "      <th>train</th>\n",
       "      <td>0.813437</td>\n",
       "      <td>0.912683</td>\n",
       "    </tr>\n",
       "    <tr>\n",
       "      <th>test</th>\n",
       "      <td>0.792328</td>\n",
       "      <td>0.861805</td>\n",
       "    </tr>\n",
       "  </tbody>\n",
       "</table>\n",
       "</div>"
      ],
      "text/plain": [
       "       with outliers  with no outliers\n",
       "train       0.813437          0.912683\n",
       "test        0.792328          0.861805"
      ]
     },
     "execution_count": 50,
     "metadata": {},
     "output_type": "execute_result"
    }
   ],
   "source": [
    "# Storage for R2 Scores\n",
    "r2_score_df = list()\n",
    "\n",
    "# Old Data with outliers\n",
    "LR = LR.fit(X_train, y_train)\n",
    "y_train_pred = LR.predict(X_train) # using train data\n",
    "y_test_pred = LR.predict(X_test) # using test data\n",
    "\n",
    "r2_score_df.append(pd.Series({'train': r2_score(y_train.values, y_train_pred),\n",
    "                           'test' : r2_score(y_test.values,  y_test_pred)},\n",
    "                           name='with outliers'))\n",
    "\n",
    "# Data with no outliers\n",
    "LR = LR.fit(X_train_ro, y_train_ro)\n",
    "y_train_ro_pred = LR.predict(X_train_ro) # using train data\n",
    "y_test_ro_pred = LR.predict(X_test_ro) # using test data\n",
    "\n",
    "r2_score_df.append(pd.Series({'train': r2_score(y_train_ro.values, y_train_ro_pred),\n",
    "                           'test' : r2_score(y_test_ro.values,  y_test_ro_pred)},\n",
    "                          name='with no outliers'))\n",
    "\n",
    "# Assemble the results\n",
    "r2_score_df = pd.concat(r2_score_df, axis=1)\n",
    "r2_score_df"
   ]
  },
  {
   "cell_type": "markdown",
   "metadata": {},
   "source": [
    "On the data with outliers, we're getting scores of `0.813437` and `0.792328` for the train and test data. And on the data with no outliers, we're getting scores of `0.912683` and `0.861805` for the train and test data. And We can say that removing outliers did improve the performance of the linear regression model."
   ]
  },
  {
   "cell_type": "markdown",
   "metadata": {},
   "source": [
    "# Export Data Frame with no Outliers\n",
    "\n",
    "We'll be exporting the dataframe with no Outliers so that we can use it in future"
   ]
  },
  {
   "cell_type": "code",
   "execution_count": 51,
   "metadata": {},
   "outputs": [],
   "source": [
    "# exporting\n",
    "data_ro.to_csv(\"../datasets/Ames_Housing_Sales_RO.csv\", index=False)"
   ]
  }
 ],
 "metadata": {
  "interpreter": {
   "hash": "a2f61642c73397aee4fb8f9fd49da4a6418d71ff277291f75e7c7e32695bb542"
  },
  "kernelspec": {
   "display_name": "Python 3.9.0 64-bit",
   "language": "python",
   "name": "python3"
  },
  "language_info": {
   "codemirror_mode": {
    "name": "ipython",
    "version": 3
   },
   "file_extension": ".py",
   "mimetype": "text/x-python",
   "name": "python",
   "nbconvert_exporter": "python",
   "pygments_lexer": "ipython3",
   "version": "3.9.0"
  },
  "orig_nbformat": 4
 },
 "nbformat": 4,
 "nbformat_minor": 2
}
