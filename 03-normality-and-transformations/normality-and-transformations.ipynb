{
 "cells": [
  {
   "cell_type": "markdown",
   "metadata": {},
   "source": [
    "# Determine normality and apply transformations to make data normally distributed 📈\n",
    "\n",
    "As you go along you'll get to know how to determine🔎 normality statistically and visually, apply transformations to make data more normally distributed📈 for regression, and also apply inverse transformations🙃 to be able to use these in a regression context.\n",
    "\n",
    "I'll be making our target variable normally distributed, **you can transform the independent variables too**.\n",
    "\n",
    "The first thing we need to do is to import some relevant libraries.\n",
    "\n",
    "## Import Libraries 📦"
   ]
  },
  {
   "cell_type": "code",
   "execution_count": 601,
   "metadata": {},
   "outputs": [],
   "source": [
    "import pandas as pd\n",
    "import numpy as np\n",
    "import matplotlib.pyplot as plt\n",
    "import warnings\n",
    "warnings.filterwarnings('ignore')"
   ]
  },
  {
   "cell_type": "markdown",
   "metadata": {},
   "source": [
    "## Import Dataset 📄\n",
    "\n",
    "We'll be using the `Ames_Housing_Sales_RO.csv` Dataset this time, which we've exported in the previous notebook. Here we removed all the outlier present in features columns.\n",
    "\n",
    "The Ames housing dataset examines features of houses sold in Ames during the 2006–10 timeframe. The goal is to use the training data to predict the sale prices of the houses in the testing data."
   ]
  },
  {
   "cell_type": "code",
   "execution_count": 602,
   "metadata": {},
   "outputs": [
    {
     "data": {
      "text/html": [
       "<div>\n",
       "<style scoped>\n",
       "    .dataframe tbody tr th:only-of-type {\n",
       "        vertical-align: middle;\n",
       "    }\n",
       "\n",
       "    .dataframe tbody tr th {\n",
       "        vertical-align: top;\n",
       "    }\n",
       "\n",
       "    .dataframe thead th {\n",
       "        text-align: right;\n",
       "    }\n",
       "</style>\n",
       "<table border=\"1\" class=\"dataframe\">\n",
       "  <thead>\n",
       "    <tr style=\"text-align: right;\">\n",
       "      <th></th>\n",
       "      <th>1stFlrSF</th>\n",
       "      <th>2ndFlrSF</th>\n",
       "      <th>3SsnPorch</th>\n",
       "      <th>Alley</th>\n",
       "      <th>BedroomAbvGr</th>\n",
       "      <th>BldgType</th>\n",
       "      <th>BsmtCond</th>\n",
       "      <th>BsmtExposure</th>\n",
       "      <th>BsmtFinSF1</th>\n",
       "      <th>BsmtFinSF2</th>\n",
       "      <th>...</th>\n",
       "      <th>ScreenPorch</th>\n",
       "      <th>Street</th>\n",
       "      <th>TotRmsAbvGrd</th>\n",
       "      <th>TotalBsmtSF</th>\n",
       "      <th>Utilities</th>\n",
       "      <th>WoodDeckSF</th>\n",
       "      <th>YearBuilt</th>\n",
       "      <th>YearRemodAdd</th>\n",
       "      <th>YrSold</th>\n",
       "      <th>SalePrice</th>\n",
       "    </tr>\n",
       "  </thead>\n",
       "  <tbody>\n",
       "    <tr>\n",
       "      <th>0</th>\n",
       "      <td>856.0</td>\n",
       "      <td>854.0</td>\n",
       "      <td>0.0</td>\n",
       "      <td>None</td>\n",
       "      <td>3</td>\n",
       "      <td>1Fam</td>\n",
       "      <td>TA</td>\n",
       "      <td>No</td>\n",
       "      <td>706.0</td>\n",
       "      <td>0.0</td>\n",
       "      <td>...</td>\n",
       "      <td>0.0</td>\n",
       "      <td>Pave</td>\n",
       "      <td>8</td>\n",
       "      <td>856.0</td>\n",
       "      <td>AllPub</td>\n",
       "      <td>0.0</td>\n",
       "      <td>2003</td>\n",
       "      <td>2003</td>\n",
       "      <td>2008</td>\n",
       "      <td>208500.0</td>\n",
       "    </tr>\n",
       "    <tr>\n",
       "      <th>1</th>\n",
       "      <td>920.0</td>\n",
       "      <td>866.0</td>\n",
       "      <td>0.0</td>\n",
       "      <td>None</td>\n",
       "      <td>3</td>\n",
       "      <td>1Fam</td>\n",
       "      <td>TA</td>\n",
       "      <td>Mn</td>\n",
       "      <td>486.0</td>\n",
       "      <td>0.0</td>\n",
       "      <td>...</td>\n",
       "      <td>0.0</td>\n",
       "      <td>Pave</td>\n",
       "      <td>6</td>\n",
       "      <td>920.0</td>\n",
       "      <td>AllPub</td>\n",
       "      <td>0.0</td>\n",
       "      <td>2001</td>\n",
       "      <td>2002</td>\n",
       "      <td>2008</td>\n",
       "      <td>223500.0</td>\n",
       "    </tr>\n",
       "    <tr>\n",
       "      <th>2</th>\n",
       "      <td>1145.0</td>\n",
       "      <td>1053.0</td>\n",
       "      <td>0.0</td>\n",
       "      <td>None</td>\n",
       "      <td>4</td>\n",
       "      <td>1Fam</td>\n",
       "      <td>TA</td>\n",
       "      <td>Av</td>\n",
       "      <td>655.0</td>\n",
       "      <td>0.0</td>\n",
       "      <td>...</td>\n",
       "      <td>0.0</td>\n",
       "      <td>Pave</td>\n",
       "      <td>9</td>\n",
       "      <td>1145.0</td>\n",
       "      <td>AllPub</td>\n",
       "      <td>192.0</td>\n",
       "      <td>2000</td>\n",
       "      <td>2000</td>\n",
       "      <td>2008</td>\n",
       "      <td>250000.0</td>\n",
       "    </tr>\n",
       "    <tr>\n",
       "      <th>3</th>\n",
       "      <td>1694.0</td>\n",
       "      <td>0.0</td>\n",
       "      <td>0.0</td>\n",
       "      <td>None</td>\n",
       "      <td>3</td>\n",
       "      <td>1Fam</td>\n",
       "      <td>TA</td>\n",
       "      <td>Av</td>\n",
       "      <td>1369.0</td>\n",
       "      <td>0.0</td>\n",
       "      <td>...</td>\n",
       "      <td>0.0</td>\n",
       "      <td>Pave</td>\n",
       "      <td>7</td>\n",
       "      <td>1686.0</td>\n",
       "      <td>AllPub</td>\n",
       "      <td>255.0</td>\n",
       "      <td>2004</td>\n",
       "      <td>2005</td>\n",
       "      <td>2007</td>\n",
       "      <td>307000.0</td>\n",
       "    </tr>\n",
       "    <tr>\n",
       "      <th>4</th>\n",
       "      <td>1040.0</td>\n",
       "      <td>0.0</td>\n",
       "      <td>0.0</td>\n",
       "      <td>None</td>\n",
       "      <td>3</td>\n",
       "      <td>1Fam</td>\n",
       "      <td>TA</td>\n",
       "      <td>No</td>\n",
       "      <td>906.0</td>\n",
       "      <td>0.0</td>\n",
       "      <td>...</td>\n",
       "      <td>0.0</td>\n",
       "      <td>Pave</td>\n",
       "      <td>5</td>\n",
       "      <td>1040.0</td>\n",
       "      <td>AllPub</td>\n",
       "      <td>0.0</td>\n",
       "      <td>1965</td>\n",
       "      <td>1965</td>\n",
       "      <td>2008</td>\n",
       "      <td>129500.0</td>\n",
       "    </tr>\n",
       "  </tbody>\n",
       "</table>\n",
       "<p>5 rows × 80 columns</p>\n",
       "</div>"
      ],
      "text/plain": [
       "   1stFlrSF  2ndFlrSF  3SsnPorch Alley  BedroomAbvGr BldgType BsmtCond  \\\n",
       "0     856.0     854.0        0.0  None             3     1Fam       TA   \n",
       "1     920.0     866.0        0.0  None             3     1Fam       TA   \n",
       "2    1145.0    1053.0        0.0  None             4     1Fam       TA   \n",
       "3    1694.0       0.0        0.0  None             3     1Fam       TA   \n",
       "4    1040.0       0.0        0.0  None             3     1Fam       TA   \n",
       "\n",
       "  BsmtExposure  BsmtFinSF1  BsmtFinSF2  ... ScreenPorch Street  TotRmsAbvGrd  \\\n",
       "0           No       706.0         0.0  ...         0.0   Pave             8   \n",
       "1           Mn       486.0         0.0  ...         0.0   Pave             6   \n",
       "2           Av       655.0         0.0  ...         0.0   Pave             9   \n",
       "3           Av      1369.0         0.0  ...         0.0   Pave             7   \n",
       "4           No       906.0         0.0  ...         0.0   Pave             5   \n",
       "\n",
       "   TotalBsmtSF Utilities  WoodDeckSF YearBuilt YearRemodAdd YrSold SalePrice  \n",
       "0        856.0    AllPub         0.0      2003         2003   2008  208500.0  \n",
       "1        920.0    AllPub         0.0      2001         2002   2008  223500.0  \n",
       "2       1145.0    AllPub       192.0      2000         2000   2008  250000.0  \n",
       "3       1686.0    AllPub       255.0      2004         2005   2007  307000.0  \n",
       "4       1040.0    AllPub         0.0      1965         1965   2008  129500.0  \n",
       "\n",
       "[5 rows x 80 columns]"
      ]
     },
     "execution_count": 602,
     "metadata": {},
     "output_type": "execute_result"
    }
   ],
   "source": [
    "data = pd.read_csv('../datasets/Ames_Housing_Sales_RO.csv')\n",
    "data.head() #this returns top 5 rows of the dataset"
   ]
  },
  {
   "cell_type": "code",
   "execution_count": 603,
   "metadata": {},
   "outputs": [
    {
     "data": {
      "text/html": [
       "<div>\n",
       "<style scoped>\n",
       "    .dataframe tbody tr th:only-of-type {\n",
       "        vertical-align: middle;\n",
       "    }\n",
       "\n",
       "    .dataframe tbody tr th {\n",
       "        vertical-align: top;\n",
       "    }\n",
       "\n",
       "    .dataframe thead th {\n",
       "        text-align: right;\n",
       "    }\n",
       "</style>\n",
       "<table border=\"1\" class=\"dataframe\">\n",
       "  <thead>\n",
       "    <tr style=\"text-align: right;\">\n",
       "      <th></th>\n",
       "      <th>1stFlrSF</th>\n",
       "      <th>2ndFlrSF</th>\n",
       "      <th>3SsnPorch</th>\n",
       "      <th>BedroomAbvGr</th>\n",
       "      <th>BsmtFinSF1</th>\n",
       "      <th>BsmtFinSF2</th>\n",
       "      <th>BsmtFullBath</th>\n",
       "      <th>BsmtHalfBath</th>\n",
       "      <th>BsmtUnfSF</th>\n",
       "      <th>EnclosedPorch</th>\n",
       "      <th>...</th>\n",
       "      <th>OverallQual</th>\n",
       "      <th>PoolArea</th>\n",
       "      <th>ScreenPorch</th>\n",
       "      <th>TotRmsAbvGrd</th>\n",
       "      <th>TotalBsmtSF</th>\n",
       "      <th>WoodDeckSF</th>\n",
       "      <th>YearBuilt</th>\n",
       "      <th>YearRemodAdd</th>\n",
       "      <th>YrSold</th>\n",
       "      <th>SalePrice</th>\n",
       "    </tr>\n",
       "  </thead>\n",
       "  <tbody>\n",
       "    <tr>\n",
       "      <th>count</th>\n",
       "      <td>546.000000</td>\n",
       "      <td>546.000000</td>\n",
       "      <td>546.0</td>\n",
       "      <td>546.000000</td>\n",
       "      <td>546.000000</td>\n",
       "      <td>546.0</td>\n",
       "      <td>546.00000</td>\n",
       "      <td>546.0</td>\n",
       "      <td>546.000000</td>\n",
       "      <td>546.0</td>\n",
       "      <td>...</td>\n",
       "      <td>546.000000</td>\n",
       "      <td>546.0</td>\n",
       "      <td>546.0</td>\n",
       "      <td>546.000000</td>\n",
       "      <td>546.000000</td>\n",
       "      <td>546.000000</td>\n",
       "      <td>546.000000</td>\n",
       "      <td>546.000000</td>\n",
       "      <td>546.000000</td>\n",
       "      <td>546.000000</td>\n",
       "    </tr>\n",
       "    <tr>\n",
       "      <th>mean</th>\n",
       "      <td>1124.684982</td>\n",
       "      <td>323.813187</td>\n",
       "      <td>0.0</td>\n",
       "      <td>2.815018</td>\n",
       "      <td>445.175824</td>\n",
       "      <td>0.0</td>\n",
       "      <td>0.42674</td>\n",
       "      <td>0.0</td>\n",
       "      <td>628.161172</td>\n",
       "      <td>0.0</td>\n",
       "      <td>...</td>\n",
       "      <td>6.316850</td>\n",
       "      <td>0.0</td>\n",
       "      <td>0.0</td>\n",
       "      <td>6.369963</td>\n",
       "      <td>1073.336996</td>\n",
       "      <td>96.276557</td>\n",
       "      <td>1984.490842</td>\n",
       "      <td>1989.756410</td>\n",
       "      <td>2007.769231</td>\n",
       "      <td>182709.472527</td>\n",
       "    </tr>\n",
       "    <tr>\n",
       "      <th>std</th>\n",
       "      <td>290.178243</td>\n",
       "      <td>424.187978</td>\n",
       "      <td>0.0</td>\n",
       "      <td>0.661270</td>\n",
       "      <td>412.578189</td>\n",
       "      <td>0.0</td>\n",
       "      <td>0.49875</td>\n",
       "      <td>0.0</td>\n",
       "      <td>431.967060</td>\n",
       "      <td>0.0</td>\n",
       "      <td>...</td>\n",
       "      <td>1.219253</td>\n",
       "      <td>0.0</td>\n",
       "      <td>0.0</td>\n",
       "      <td>1.325313</td>\n",
       "      <td>294.035921</td>\n",
       "      <td>101.891769</td>\n",
       "      <td>24.181669</td>\n",
       "      <td>19.281717</td>\n",
       "      <td>1.326458</td>\n",
       "      <td>54799.687932</td>\n",
       "    </tr>\n",
       "    <tr>\n",
       "      <th>min</th>\n",
       "      <td>438.000000</td>\n",
       "      <td>0.000000</td>\n",
       "      <td>0.0</td>\n",
       "      <td>1.000000</td>\n",
       "      <td>0.000000</td>\n",
       "      <td>0.0</td>\n",
       "      <td>0.00000</td>\n",
       "      <td>0.0</td>\n",
       "      <td>0.000000</td>\n",
       "      <td>0.0</td>\n",
       "      <td>...</td>\n",
       "      <td>2.000000</td>\n",
       "      <td>0.0</td>\n",
       "      <td>0.0</td>\n",
       "      <td>3.000000</td>\n",
       "      <td>290.000000</td>\n",
       "      <td>0.000000</td>\n",
       "      <td>1910.000000</td>\n",
       "      <td>1950.000000</td>\n",
       "      <td>2006.000000</td>\n",
       "      <td>60000.000000</td>\n",
       "    </tr>\n",
       "    <tr>\n",
       "      <th>25%</th>\n",
       "      <td>884.000000</td>\n",
       "      <td>0.000000</td>\n",
       "      <td>0.0</td>\n",
       "      <td>2.000000</td>\n",
       "      <td>0.000000</td>\n",
       "      <td>0.0</td>\n",
       "      <td>0.00000</td>\n",
       "      <td>0.0</td>\n",
       "      <td>280.250000</td>\n",
       "      <td>0.0</td>\n",
       "      <td>...</td>\n",
       "      <td>5.000000</td>\n",
       "      <td>0.0</td>\n",
       "      <td>0.0</td>\n",
       "      <td>6.000000</td>\n",
       "      <td>860.000000</td>\n",
       "      <td>0.000000</td>\n",
       "      <td>1967.000000</td>\n",
       "      <td>1974.250000</td>\n",
       "      <td>2007.000000</td>\n",
       "      <td>140000.000000</td>\n",
       "    </tr>\n",
       "    <tr>\n",
       "      <th>50%</th>\n",
       "      <td>1078.500000</td>\n",
       "      <td>0.000000</td>\n",
       "      <td>0.0</td>\n",
       "      <td>3.000000</td>\n",
       "      <td>442.000000</td>\n",
       "      <td>0.0</td>\n",
       "      <td>0.00000</td>\n",
       "      <td>0.0</td>\n",
       "      <td>521.500000</td>\n",
       "      <td>0.0</td>\n",
       "      <td>...</td>\n",
       "      <td>6.000000</td>\n",
       "      <td>0.0</td>\n",
       "      <td>0.0</td>\n",
       "      <td>6.000000</td>\n",
       "      <td>1029.000000</td>\n",
       "      <td>100.000000</td>\n",
       "      <td>1997.000000</td>\n",
       "      <td>1999.000000</td>\n",
       "      <td>2008.000000</td>\n",
       "      <td>178000.000000</td>\n",
       "    </tr>\n",
       "    <tr>\n",
       "      <th>75%</th>\n",
       "      <td>1326.250000</td>\n",
       "      <td>741.000000</td>\n",
       "      <td>0.0</td>\n",
       "      <td>3.000000</td>\n",
       "      <td>745.000000</td>\n",
       "      <td>0.0</td>\n",
       "      <td>1.00000</td>\n",
       "      <td>0.0</td>\n",
       "      <td>898.250000</td>\n",
       "      <td>0.0</td>\n",
       "      <td>...</td>\n",
       "      <td>7.000000</td>\n",
       "      <td>0.0</td>\n",
       "      <td>0.0</td>\n",
       "      <td>7.000000</td>\n",
       "      <td>1283.250000</td>\n",
       "      <td>168.000000</td>\n",
       "      <td>2004.000000</td>\n",
       "      <td>2005.000000</td>\n",
       "      <td>2009.000000</td>\n",
       "      <td>215000.000000</td>\n",
       "    </tr>\n",
       "    <tr>\n",
       "      <th>max</th>\n",
       "      <td>2117.000000</td>\n",
       "      <td>1349.000000</td>\n",
       "      <td>0.0</td>\n",
       "      <td>4.000000</td>\n",
       "      <td>1619.000000</td>\n",
       "      <td>0.0</td>\n",
       "      <td>2.00000</td>\n",
       "      <td>0.0</td>\n",
       "      <td>1670.000000</td>\n",
       "      <td>0.0</td>\n",
       "      <td>...</td>\n",
       "      <td>10.000000</td>\n",
       "      <td>0.0</td>\n",
       "      <td>0.0</td>\n",
       "      <td>10.000000</td>\n",
       "      <td>1980.000000</td>\n",
       "      <td>426.000000</td>\n",
       "      <td>2009.000000</td>\n",
       "      <td>2010.000000</td>\n",
       "      <td>2010.000000</td>\n",
       "      <td>342643.000000</td>\n",
       "    </tr>\n",
       "  </tbody>\n",
       "</table>\n",
       "<p>8 rows × 37 columns</p>\n",
       "</div>"
      ],
      "text/plain": [
       "          1stFlrSF     2ndFlrSF  3SsnPorch  BedroomAbvGr   BsmtFinSF1  \\\n",
       "count   546.000000   546.000000      546.0    546.000000   546.000000   \n",
       "mean   1124.684982   323.813187        0.0      2.815018   445.175824   \n",
       "std     290.178243   424.187978        0.0      0.661270   412.578189   \n",
       "min     438.000000     0.000000        0.0      1.000000     0.000000   \n",
       "25%     884.000000     0.000000        0.0      2.000000     0.000000   \n",
       "50%    1078.500000     0.000000        0.0      3.000000   442.000000   \n",
       "75%    1326.250000   741.000000        0.0      3.000000   745.000000   \n",
       "max    2117.000000  1349.000000        0.0      4.000000  1619.000000   \n",
       "\n",
       "       BsmtFinSF2  BsmtFullBath  BsmtHalfBath    BsmtUnfSF  EnclosedPorch  \\\n",
       "count       546.0     546.00000         546.0   546.000000          546.0   \n",
       "mean          0.0       0.42674           0.0   628.161172            0.0   \n",
       "std           0.0       0.49875           0.0   431.967060            0.0   \n",
       "min           0.0       0.00000           0.0     0.000000            0.0   \n",
       "25%           0.0       0.00000           0.0   280.250000            0.0   \n",
       "50%           0.0       0.00000           0.0   521.500000            0.0   \n",
       "75%           0.0       1.00000           0.0   898.250000            0.0   \n",
       "max           0.0       2.00000           0.0  1670.000000            0.0   \n",
       "\n",
       "       ...  OverallQual  PoolArea  ScreenPorch  TotRmsAbvGrd  TotalBsmtSF  \\\n",
       "count  ...   546.000000     546.0        546.0    546.000000   546.000000   \n",
       "mean   ...     6.316850       0.0          0.0      6.369963  1073.336996   \n",
       "std    ...     1.219253       0.0          0.0      1.325313   294.035921   \n",
       "min    ...     2.000000       0.0          0.0      3.000000   290.000000   \n",
       "25%    ...     5.000000       0.0          0.0      6.000000   860.000000   \n",
       "50%    ...     6.000000       0.0          0.0      6.000000  1029.000000   \n",
       "75%    ...     7.000000       0.0          0.0      7.000000  1283.250000   \n",
       "max    ...    10.000000       0.0          0.0     10.000000  1980.000000   \n",
       "\n",
       "       WoodDeckSF    YearBuilt  YearRemodAdd       YrSold      SalePrice  \n",
       "count  546.000000   546.000000    546.000000   546.000000     546.000000  \n",
       "mean    96.276557  1984.490842   1989.756410  2007.769231  182709.472527  \n",
       "std    101.891769    24.181669     19.281717     1.326458   54799.687932  \n",
       "min      0.000000  1910.000000   1950.000000  2006.000000   60000.000000  \n",
       "25%      0.000000  1967.000000   1974.250000  2007.000000  140000.000000  \n",
       "50%    100.000000  1997.000000   1999.000000  2008.000000  178000.000000  \n",
       "75%    168.000000  2004.000000   2005.000000  2009.000000  215000.000000  \n",
       "max    426.000000  2009.000000   2010.000000  2010.000000  342643.000000  \n",
       "\n",
       "[8 rows x 37 columns]"
      ]
     },
     "execution_count": 603,
     "metadata": {},
     "output_type": "execute_result"
    }
   ],
   "source": [
    "# to get descriptive statistics of the dataset\n",
    "data.describe()"
   ]
  },
  {
   "cell_type": "markdown",
   "metadata": {},
   "source": [
    "👀 Look at the mean, and 50%, which is the median, for our target variable `SalePrice`\n",
    "\n",
    "Median is smaller than Mean, so we can say our target variable is **right-skewed** or **positively skewed**, as for **right-skewed** or **positively skewed**, **Mode < Median < Mean**\n",
    "\n",
    "Let's also determine normality using some of the approaches that we mentioned.\n",
    "\n",
    "## Determine Normality 📊\n",
    "Making target variables normally distributed leads to better results.\n",
    "\n",
    "### Visually\n",
    "Plot a histogram of the target variable"
   ]
  },
  {
   "cell_type": "code",
   "execution_count": 604,
   "metadata": {},
   "outputs": [
    {
     "data": {
      "image/png": "[encoded data removed]",
      "text/plain": [
       "<Figure size 432x288 with 1 Axes>"
      ]
     },
     "metadata": {
      "needs_background": "light"
     },
     "output_type": "display_data"
    }
   ],
   "source": [
    "ax = plt.axes()\n",
    "ax.hist(data.SalePrice);\n",
    "\n",
    "ax.set(xlabel='Sale Price', \n",
    "       ylabel='Frequency',\n",
    "       title='Histogram of Target Variable');"
   ]
  },
  {
   "cell_type": "markdown",
   "metadata": {},
   "source": [
    "Does not look normal due to that right tail. Not that much but still.\n",
    "\n",
    "Let's try to verify statistically:\n",
    "\n",
    "### Using a statistical test\n",
    "\n",
    "This is a statistical test that tests whether a distribution is normally distributed or not. It isn't perfect but suffice it.\n",
    "\n",
    "- This test outputs a \"`p-value`\". The higher this `p-value` is the closer the distribution is to normal.\n",
    "- Frequentist statisticians would say that you accept that the distribution is normal (more specifically: fail to reject the null hypothesis that it is normal) if `p > 0.05`.\n",
    "\n",
    "Import the test (D'Agostino K^2 Test) from `scipy.stats.mstats`"
   ]
  },
  {
   "cell_type": "code",
   "execution_count": 605,
   "metadata": {},
   "outputs": [],
   "source": [
    "from scipy.stats.mstats import normaltest # D'Agostino K^2 Test"
   ]
  },
  {
   "cell_type": "code",
   "execution_count": 606,
   "metadata": {},
   "outputs": [
    {
     "data": {
      "text/plain": [
       "NormaltestResult(statistic=31.789632638462976, pvalue=1.2501697370389989e-07)"
      ]
     },
     "execution_count": 606,
     "metadata": {},
     "output_type": "execute_result"
    }
   ],
   "source": [
    "# lets perform the test\n",
    "normaltest(data.SalePrice.values)"
   ]
  },
  {
   "cell_type": "markdown",
   "metadata": {},
   "source": [
    "The `p-value` is extremely low. The target variable is not normally distributed. And we've to try and get the target variable to be normally distributed, which we'll be doing now.\n",
    "\n",
    "We'll try some common transformations and try to get the target variable to be normally distributed.\n",
    "\n",
    "## Apply Transformations 🐛➡🦋\n",
    "### Log Transformation\n",
    "The log transform can transform data that is significantly skewed right to be more normally distributed:\n",
    "##### Applying log transformation to target varible"
   ]
  },
  {
   "cell_type": "code",
   "execution_count": 607,
   "metadata": {},
   "outputs": [
    {
     "data": {
      "text/plain": [
       "<AxesSubplot:>"
      ]
     },
     "execution_count": 607,
     "metadata": {},
     "output_type": "execute_result"
    },
    {
     "data": {
      "image/png": "[encoded data removed]",
      "text/plain": [
       "<Figure size 432x288 with 1 Axes>"
      ]
     },
     "metadata": {
      "needs_background": "light"
     },
     "output_type": "display_data"
    }
   ],
   "source": [
    "log_target = np.log(data[\"SalePrice\"])\n",
    "# plotting histogram\n",
    "log_target.hist()"
   ]
  },
  {
   "cell_type": "markdown",
   "metadata": {},
   "source": [
    "### Square Root Transformation\n",
    "The square root transformation is another transformation that can transform non-normally distributed data into normally distributed data.\n",
    "\n",
    "##### Applying square root transformation to target variable"
   ]
  },
  {
   "cell_type": "code",
   "execution_count": 608,
   "metadata": {},
   "outputs": [
    {
     "data": {
      "text/plain": [
       "(array([  4.,   5.,  51., 105.,  76., 132.,  85.,  42.,  25.,  21.]),\n",
       " array([244.94897428, 278.98979244, 313.03061061, 347.07142877,\n",
       "        381.11224694, 415.1530651 , 449.19388327, 483.23470144,\n",
       "        517.2755196 , 551.31633777, 585.35715593]),\n",
       " <BarContainer object of 10 artists>)"
      ]
     },
     "execution_count": 608,
     "metadata": {},
     "output_type": "execute_result"
    },
    {
     "data": {
      "image/png": "[encoded data removed]",
      "text/plain": [
       "<Figure size 432x288 with 1 Axes>"
      ]
     },
     "metadata": {
      "needs_background": "light"
     },
     "output_type": "display_data"
    }
   ],
   "source": [
    "sqrt_target = np.sqrt(data[\"SalePrice\"])\n",
    "# plotting histogram\n",
    "plt.hist(sqrt_target)"
   ]
  },
  {
   "cell_type": "markdown",
   "metadata": {},
   "source": [
    "### Box-Cox Transformation\n",
    "The box cox transformation is a parametrized transformation that tries to get distributions \"as close to a normal distribution as possible\".\n",
    "\n",
    "It is defined as:\n",
    "\n",
    " $\\text{boxcox}(y_i) = \\frac{y_i^{\\lambda} - 1}{\\lambda}$ \n",
    "\n",
    "You can think of it as a generalization of the square root function: the square root function uses the exponent of 0.5, but box cox lets its exponent vary so it can find the best one.\n",
    "\n",
    "We have to import the `boxcox` from the `scipy.stats`."
   ]
  },
  {
   "cell_type": "code",
   "execution_count": 609,
   "metadata": {},
   "outputs": [],
   "source": [
    "from scipy.stats import boxcox"
   ]
  },
  {
   "cell_type": "markdown",
   "metadata": {},
   "source": [
    "##### Applying boxcox transformation to target variable"
   ]
  },
  {
   "cell_type": "code",
   "execution_count": 610,
   "metadata": {},
   "outputs": [
    {
     "data": {
      "text/plain": [
       "0.1766281136075183"
      ]
     },
     "execution_count": 610,
     "metadata": {},
     "output_type": "execute_result"
    }
   ],
   "source": [
    "boxcox_result = boxcox(data[\"SalePrice\"])\n",
    "boxcox_target = boxcox_result[0]\n",
    "lam = boxcox_result[1]\n",
    "lam"
   ]
  },
  {
   "cell_type": "code",
   "execution_count": 611,
   "metadata": {},
   "outputs": [
    {
     "data": {
      "text/plain": [
       "(array([  4.,   3.,  15.,  62., 105., 105., 112.,  76.,  41.,  23.]),\n",
       " array([33.8655835 , 35.28997294, 36.71436239, 38.13875184, 39.56314128,\n",
       "        40.98753073, 42.41192017, 43.83630962, 45.26069907, 46.68508851,\n",
       "        48.10947796]),\n",
       " <BarContainer object of 10 artists>)"
      ]
     },
     "execution_count": 611,
     "metadata": {},
     "output_type": "execute_result"
    },
    {
     "data": {
      "image/png": "[encoded data removed]",
      "text/plain": [
       "<Figure size 432x288 with 1 Axes>"
      ]
     },
     "metadata": {
      "needs_background": "light"
     },
     "output_type": "display_data"
    }
   ],
   "source": [
    "# plotting histogram\n",
    "plt.hist(boxcox_target)"
   ]
  },
  {
   "cell_type": "markdown",
   "metadata": {},
   "source": [
    "Boxcox function choose `0.1766281136075183` the optimal value of lambda for us and applied transformation.\n",
    "\n",
    "### Compare `p-value`"
   ]
  },
  {
   "cell_type": "code",
   "execution_count": 612,
   "metadata": {},
   "outputs": [
    {
     "name": "stdout",
     "output_type": "stream",
     "text": [
      "Normal Test Results...\n",
      "Log Transformation :  NormaltestResult(statistic=2.200318270889921, pvalue=0.3328181163246658)\n",
      "Square Root Transformation :  NormaltestResult(statistic=7.053551958548181, pvalue=0.02939954798915904)\n",
      "Box-Cox Transformation :  NormaltestResult(statistic=0.4958243627659459, pvalue=0.780428476418235)\n"
     ]
    }
   ],
   "source": [
    "print(\"Normal Test Results...\")\n",
    "print(\"Log Transformation : \", normaltest(log_target))\n",
    "print(\"Square Root Transformation : \", normaltest(sqrt_target))\n",
    "print(\"Box-Cox Transformation : \", normaltest(boxcox_target))"
   ]
  },
  {
   "cell_type": "markdown",
   "metadata": {},
   "source": [
    "Now let's fit a basic linear regression model and compare results.\n",
    "\n",
    "## Separate features and target 🖖"
   ]
  },
  {
   "cell_type": "code",
   "execution_count": 613,
   "metadata": {},
   "outputs": [],
   "source": [
    "target_col = \"SalePrice\"\n",
    "\n",
    "X = data.drop(target_col, axis=1)\n",
    "y = data[target_col]"
   ]
  },
  {
   "cell_type": "code",
   "execution_count": 614,
   "metadata": {},
   "outputs": [],
   "source": [
    "# dropping categorical variables\n",
    "X = X.drop(X.columns[X.dtypes == np.object], axis=1)"
   ]
  },
  {
   "cell_type": "markdown",
   "metadata": {},
   "source": [
    "## Create train and test splits ⚔️"
   ]
  },
  {
   "cell_type": "code",
   "execution_count": 615,
   "metadata": {},
   "outputs": [],
   "source": [
    "# import train_test_split\n",
    "from sklearn.model_selection import train_test_split\n",
    "X_train, X_test, y_train, y_test = train_test_split(X, y, test_size=0.3) # splits train and test in 7:3 ratio"
   ]
  },
  {
   "cell_type": "markdown",
   "metadata": {},
   "source": [
    "## Fit Linear Regression and calculate the R2 Score 💪"
   ]
  },
  {
   "cell_type": "code",
   "execution_count": 616,
   "metadata": {},
   "outputs": [],
   "source": [
    "# import linear regression and create an instance of it\n",
    "from sklearn.linear_model import LinearRegression\n",
    "LR = LinearRegression()"
   ]
  },
  {
   "cell_type": "code",
   "execution_count": 617,
   "metadata": {},
   "outputs": [],
   "source": [
    "# import r2 score\n",
    "from sklearn.metrics import r2_score"
   ]
  },
  {
   "cell_type": "code",
   "execution_count": 618,
   "metadata": {},
   "outputs": [],
   "source": [
    "# Storage for R2 Scores\n",
    "r2_score_df = list()"
   ]
  },
  {
   "cell_type": "code",
   "execution_count": 619,
   "metadata": {},
   "outputs": [],
   "source": [
    "# no transformation\n",
    "LR = LR.fit(X_train, y_train)\n",
    "y_train_pred = LR.predict(X_train) # using train data\n",
    "y_test_pred = LR.predict(X_test) # using test data\n",
    "\n",
    "r2_score_df.append(pd.Series({'train': r2_score(y_train.values, y_train_pred),\n",
    "                           'test' : r2_score(y_test.values,  y_test_pred)},\n",
    "                           name='no trans'))"
   ]
  },
  {
   "cell_type": "code",
   "execution_count": 620,
   "metadata": {},
   "outputs": [],
   "source": [
    "## log transformation\n",
    "\n",
    "# applying log transformation\n",
    "log_train = np.log(y_train)\n",
    "log_test = np.log(y_test)\n",
    "\n",
    "# fitting regression\n",
    "LR = LR.fit(X_train, log_train)\n",
    "y_train_pred = LR.predict(X_train) # using train data\n",
    "y_test_pred = LR.predict(X_test) # using test data\n",
    "\n",
    "r2_score_df.append(pd.Series({'train': r2_score(log_train.values, y_train_pred),\n",
    "                           'test' : r2_score(log_test.values,  y_test_pred)},\n",
    "                           name='log trans'))"
   ]
  },
  {
   "cell_type": "code",
   "execution_count": 621,
   "metadata": {},
   "outputs": [],
   "source": [
    "## square root transformation\n",
    "\n",
    "# applying square root transformation\n",
    "sqrt_train = np.sqrt(y_train)\n",
    "sqrt_test = np.sqrt(y_test)\n",
    "\n",
    "# fitting regression\n",
    "LR = LR.fit(X_train, sqrt_train)\n",
    "y_train_pred = LR.predict(X_train) # using train data\n",
    "y_test_pred = LR.predict(X_test) # using test data\n",
    "\n",
    "r2_score_df.append(pd.Series({'train': r2_score(sqrt_train.values, y_train_pred),\n",
    "                           'test' : r2_score(sqrt_test.values,  y_test_pred)},\n",
    "                           name='sqrt trans'))"
   ]
  },
  {
   "cell_type": "markdown",
   "metadata": {},
   "source": [
    "We can also do the **inverse transformation** to get them back on the same scale as the original numbers"
   ]
  },
  {
   "cell_type": "code",
   "execution_count": 622,
   "metadata": {},
   "outputs": [],
   "source": [
    "## box-cox transformation\n",
    "\n",
    "# applying box-cox transform\n",
    "boxcox_result = boxcox(y_train)\n",
    "y_train_bc = boxcox_result[0]\n",
    "lam = boxcox_result[1]\n",
    "\n",
    "# Fitting regression\n",
    "LR = LR.fit(X_train, y_train_bc)\n",
    "# Predicting\n",
    "y_train_pred = LR.predict(X_train) # using train data\n",
    "y_test_pred = LR.predict(X_test) # using test data"
   ]
  },
  {
   "cell_type": "markdown",
   "metadata": {},
   "source": [
    "As we transformed our outcome variable with Box-Cox Transformation the predicted outcome and the original outcome are not on the same scale. So, to realign and actually predict, we have to do the __inverse transformation__ to get them back on the same scale as the original numbers.\n",
    "\n",
    "Every transformation has an __inverse transformation__. The __inverse transformation__ of $f(x) = \\sqrt{x}$ is $f^{-1}(x) = x^2$, for example. Box cox has an inverse transformation as well. We have to pass in the lambda value that we found from before.\n",
    "\n",
    "Import `inv_boxcox` from `scipy.special`"
   ]
  },
  {
   "cell_type": "code",
   "execution_count": 623,
   "metadata": {},
   "outputs": [],
   "source": [
    "from scipy.special import inv_boxcox"
   ]
  },
  {
   "cell_type": "code",
   "execution_count": 624,
   "metadata": {},
   "outputs": [],
   "source": [
    "# Apply inverse tranformation to y_train_pred (predicted outcome on train data)\n",
    "y_train_pred_inv = inv_boxcox(y_train_pred, lam)\n",
    "# Apply inverse tranformation to y_test_pred (predicted outcome on test data)\n",
    "y_test_pred_inv = inv_boxcox(y_test_pred, lam)\n",
    "\n",
    "r2_score_df.append(pd.Series({'train': r2_score(y_train.values, y_train_pred_inv),\n",
    "                           'test' : r2_score(y_test.values,  y_test_pred_inv)},\n",
    "                           name='boxcox trans'))"
   ]
  },
  {
   "cell_type": "code",
   "execution_count": 625,
   "metadata": {},
   "outputs": [
    {
     "data": {
      "text/html": [
       "<div>\n",
       "<style scoped>\n",
       "    .dataframe tbody tr th:only-of-type {\n",
       "        vertical-align: middle;\n",
       "    }\n",
       "\n",
       "    .dataframe tbody tr th {\n",
       "        vertical-align: top;\n",
       "    }\n",
       "\n",
       "    .dataframe thead th {\n",
       "        text-align: right;\n",
       "    }\n",
       "</style>\n",
       "<table border=\"1\" class=\"dataframe\">\n",
       "  <thead>\n",
       "    <tr style=\"text-align: right;\">\n",
       "      <th></th>\n",
       "      <th>no trans</th>\n",
       "      <th>log trans</th>\n",
       "      <th>sqrt trans</th>\n",
       "      <th>boxcox trans</th>\n",
       "    </tr>\n",
       "  </thead>\n",
       "  <tbody>\n",
       "    <tr>\n",
       "      <th>train</th>\n",
       "      <td>0.902088</td>\n",
       "      <td>0.918796</td>\n",
       "      <td>0.916772</td>\n",
       "      <td>0.915415</td>\n",
       "    </tr>\n",
       "    <tr>\n",
       "      <th>test</th>\n",
       "      <td>0.881495</td>\n",
       "      <td>0.890012</td>\n",
       "      <td>0.894425</td>\n",
       "      <td>0.904657</td>\n",
       "    </tr>\n",
       "  </tbody>\n",
       "</table>\n",
       "</div>"
      ],
      "text/plain": [
       "       no trans  log trans  sqrt trans  boxcox trans\n",
       "train  0.902088   0.918796    0.916772      0.915415\n",
       "test   0.881495   0.890012    0.894425      0.904657"
      ]
     },
     "execution_count": 625,
     "metadata": {},
     "output_type": "execute_result"
    }
   ],
   "source": [
    "# Assemble the results\n",
    "r2_score_df = pd.concat(r2_score_df, axis=1)\n",
    "# R2 Scores, outcome variable not normally distributed\n",
    "r2_score_df"
   ]
  }
 ],
 "metadata": {
  "interpreter": {
   "hash": "a2f61642c73397aee4fb8f9fd49da4a6418d71ff277291f75e7c7e32695bb542"
  },
  "kernelspec": {
   "display_name": "Python 3.9.0 64-bit",
   "language": "python",
   "name": "python3"
  },
  "language_info": {
   "codemirror_mode": {
    "name": "ipython",
    "version": 3
   },
   "file_extension": ".py",
   "mimetype": "text/x-python",
   "name": "python",
   "nbconvert_exporter": "python",
   "pygments_lexer": "ipython3",
   "version": "3.9.0"
  },
  "orig_nbformat": 4
 },
 "nbformat": 4,
 "nbformat_minor": 2
}
